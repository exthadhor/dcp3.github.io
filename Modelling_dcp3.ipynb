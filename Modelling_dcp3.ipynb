{
  "cells": [
    {
      "cell_type": "code",
      "execution_count": 1,
      "metadata": {
        "id": "iw-P0e5uJnn_"
      },
      "outputs": [],
      "source": [
        "import pandas as pd\n",
        "import numpy as np\n",
        "from sklearn.linear_model import RANSACRegressor\n",
        "from sklearn.tree import DecisionTreeRegressor\n",
        "from sklearn.ensemble import RandomForestRegressor\n",
        "from sklearn.model_selection import train_test_split\n",
        "from sklearn.metrics import r2_score\n",
        "from sklearn.metrics import mean_squared_error\n",
        "from sklearn.metrics import explained_variance_score\n",
        "from sklearn.model_selection import cross_val_score\n",
        "from sklearn.model_selection import GridSearchCV\n",
        "from time import time\n",
        "import joblib"
      ]
    },
    {
      "cell_type": "code",
      "execution_count": 2,
      "metadata": {
        "colab": {
          "base_uri": "https://localhost:8080/"
        },
        "id": "PlyUFtlpKHlQ",
        "outputId": "0f728d98-acb6-44fb-c52b-a6be18f2875f"
      },
      "outputs": [
        {
          "name": "stdout",
          "output_type": "stream",
          "text": [
            "<class 'pandas.core.frame.DataFrame'>\n",
            "RangeIndex: 607 entries, 0 to 606\n",
            "Data columns (total 8 columns):\n",
            " #   Column          Non-Null Count  Dtype \n",
            "---  ------          --------------  ----- \n",
            " 0   lokasi          607 non-null    object\n",
            " 1   LT              607 non-null    int64 \n",
            " 2   LB              607 non-null    int64 \n",
            " 3   KT              607 non-null    int64 \n",
            " 4   KM              607 non-null    int64 \n",
            " 5   listrik         607 non-null    int64 \n",
            " 6   garasi_carport  607 non-null    object\n",
            " 7   harga           607 non-null    int64 \n",
            "dtypes: int64(6), object(2)\n",
            "memory usage: 38.1+ KB\n"
          ]
        }
      ],
      "source": [
        "df = pd.read_csv('https://raw.githubusercontent.com/exthadhor/dcp3/main/data_rumah_jabodetabek.csv', sep=';')\n",
        "df.info()"
      ]
    },
    {
      "cell_type": "code",
      "execution_count": 4,
      "metadata": {
        "id": "hhv8MY62J6v6"
      },
      "outputs": [],
      "source": [
        "# Encoder lokasi\n",
        "df['lokasi'] = df['lokasi'].map({\n",
        "    'Kota Jakarta':0,\n",
        "    'Kota Bogor':1,\n",
        "    'Kabupaten Bogor':2,\n",
        "    'Kota Depok':3,\n",
        "    'Kota Tangerang':4,\n",
        "    'Kota Bekasi':5,\n",
        "    'Kabupaten Bekasi':6\n",
        "})\n",
        "\n",
        "# Encoder garasi/carport\n",
        "df['garasi_carport'] = df['garasi_carport'].map({\n",
        "    'Ada':0,\n",
        "    'Tidak ada':1\n",
        "})\n",
        "     "
      ]
    },
    {
      "cell_type": "code",
      "execution_count": null,
      "metadata": {
        "id": "g1loGnOMKUgk"
      },
      "outputs": [],
      "source": [
        "# Membagi variabel bebas dan variabel target\n",
        "X = df.iloc[:,:-1]\n",
        "y = np.log(df.iloc[:,-1]) # Mentransformasi logaritma natural pada variabel harga"
      ]
    },
    {
      "cell_type": "code",
      "execution_count": null,
      "metadata": {
        "id": "T-CtGPW_KiCR"
      },
      "outputs": [],
      "source": [
        "# Membagi data latih dan data uji\n",
        "X_train, X_test, y_train, y_test = train_test_split(X, y, test_size = 0.3, random_state = 42)"
      ]
    },
    {
      "cell_type": "markdown",
      "metadata": {
        "id": "k_GKbJCBMLaO"
      },
      "source": [
        "# Regression Modelling"
      ]
    },
    {
      "cell_type": "code",
      "execution_count": null,
      "metadata": {
        "id": "t8lkS7o1cCcl"
      },
      "outputs": [],
      "source": [
        "regresi = [RANSACRegressor(random_state=42),\n",
        "           DecisionTreeRegressor(random_state=42),\n",
        "           RandomForestRegressor(random_state=42)]"
      ]
    },
    {
      "cell_type": "code",
      "execution_count": null,
      "metadata": {
        "colab": {
          "base_uri": "https://localhost:8080/"
        },
        "id": "E7Xu-N4kcUjk",
        "outputId": "67676ae5-e8c9-472a-b441-60cbeacb9730"
      },
      "outputs": [
        {
          "name": "stdout",
          "output_type": "stream",
          "text": [
            "RANSACRegressor(random_state=42)\n",
            "\tWaktu latih: 0.155s\n",
            "\tWaktu prediksi: 0.000s\n",
            "\tExplained variance: 0.6848717996335743\n",
            "\tMSE: 0.375588990873661\n",
            "\tR2 score: 0.6774975188789447\n",
            "\tMSE validasi silang: [0.57752817 0.5295905  0.4532338  0.41772226 0.4063606 ]\n",
            "\tRata-rata MSE validasi silang: 0.4768870663101993\n",
            "\n",
            "DecisionTreeRegressor(random_state=42)\n",
            "\tWaktu latih: 0.015s\n",
            "\tWaktu prediksi: 0.000s\n",
            "\tExplained variance: 0.5576167168246708\n",
            "\tMSE: 0.524760036971141\n",
            "\tR2 score: 0.549410610990734\n",
            "\tMSE validasi silang: [0.36443689 0.36398484 0.23161175 0.29216962 0.33236159]\n",
            "\tRata-rata MSE validasi silang: 0.31691293845261415\n",
            "\n",
            "RandomForestRegressor(random_state=42)\n",
            "\tWaktu latih: 0.309s\n",
            "\tWaktu prediksi: 0.016s\n",
            "\tExplained variance: 0.7849550167261943\n",
            "\tMSE: 0.2584156577588465\n",
            "\tR2 score: 0.7781093354363229\n",
            "\tMSE validasi silang: [0.22526277 0.24864781 0.16715839 0.20926394 0.14317266]\n",
            "\tRata-rata MSE validasi silang: 0.19870111428960074\n",
            "\n"
          ]
        }
      ],
      "source": [
        "head = 4\n",
        "for model in regresi[:head]:\n",
        "    start = time()\n",
        "    model.fit(X_train, y_train)\n",
        "    train_time = time() - start\n",
        "    start = time()\n",
        "    y_pred = model.predict(X_test)\n",
        "    predict_time = time()-start\n",
        "    val_sil = cross_val_score(model, X_train, y_train, cv=5, scoring='neg_mean_squared_error')\n",
        "    score_val_sil = -val_sil\n",
        "    print(model)\n",
        "    print(\"\\tWaktu latih: %0.3fs\" % train_time)\n",
        "    print(\"\\tWaktu prediksi: %0.3fs\" % predict_time)\n",
        "    print(\"\\tExplained variance:\", explained_variance_score(y_test, y_pred))\n",
        "    print(\"\\tMSE:\", mean_squared_error(y_test, y_pred))\n",
        "    print(\"\\tR2 score:\", r2_score(y_test, y_pred))\n",
        "    print('\\tMSE validasi silang:', score_val_sil)\n",
        "    print('\\tRata-rata MSE validasi silang:', np.mean(score_val_sil))\n",
        "    print()"
      ]
    },
    {
      "cell_type": "markdown",
      "metadata": {
        "id": "F2PoSFtpdodV"
      },
      "source": [
        "# Hyperparameters Tuning"
      ]
    },
    {
      "cell_type": "code",
      "execution_count": null,
      "metadata": {
        "colab": {
          "base_uri": "https://localhost:8080/"
        },
        "id": "lBjq2KngfILX",
        "outputId": "a336c642-9f18-4410-eb16-c99112fb0151"
      },
      "outputs": [
        {
          "name": "stdout",
          "output_type": "stream",
          "text": [
            "{'bootstrap': True, 'criterion': 'squared_error', 'max_features': 'sqrt'} \n",
            "\n",
            "RandomForestRegressor(max_features='sqrt', random_state=42) \n",
            "\n"
          ]
        }
      ],
      "source": [
        "parameter = {'criterion':['squared_error', 'absolute_error', 'friedman_mse', 'poisson'],\n",
        "             'max_features':['sqrt', 'log2', None],\n",
        "             'bootstrap':[True, False]\n",
        "             }\n",
        "\n",
        "grid = GridSearchCV(RandomForestRegressor(random_state=42), parameter)\n",
        "model = grid.fit(X, y)\n",
        "print(model.best_params_,'\\n')\n",
        "print(model.best_estimator_,'\\n')"
      ]
    },
    {
      "cell_type": "code",
      "execution_count": null,
      "metadata": {
        "colab": {
          "base_uri": "https://localhost:8080/",
          "height": 75
        },
        "id": "gqEKXwPMiU7Q",
        "outputId": "47100178-0f21-4c40-ebc3-cccdd1f92317"
      },
      "outputs": [
        {
          "data": {
            "text/html": [
              "<style>#sk-container-id-1 {color: black;background-color: white;}#sk-container-id-1 pre{padding: 0;}#sk-container-id-1 div.sk-toggleable {background-color: white;}#sk-container-id-1 label.sk-toggleable__label {cursor: pointer;display: block;width: 100%;margin-bottom: 0;padding: 0.3em;box-sizing: border-box;text-align: center;}#sk-container-id-1 label.sk-toggleable__label-arrow:before {content: \"▸\";float: left;margin-right: 0.25em;color: #696969;}#sk-container-id-1 label.sk-toggleable__label-arrow:hover:before {color: black;}#sk-container-id-1 div.sk-estimator:hover label.sk-toggleable__label-arrow:before {color: black;}#sk-container-id-1 div.sk-toggleable__content {max-height: 0;max-width: 0;overflow: hidden;text-align: left;background-color: #f0f8ff;}#sk-container-id-1 div.sk-toggleable__content pre {margin: 0.2em;color: black;border-radius: 0.25em;background-color: #f0f8ff;}#sk-container-id-1 input.sk-toggleable__control:checked~div.sk-toggleable__content {max-height: 200px;max-width: 100%;overflow: auto;}#sk-container-id-1 input.sk-toggleable__control:checked~label.sk-toggleable__label-arrow:before {content: \"▾\";}#sk-container-id-1 div.sk-estimator input.sk-toggleable__control:checked~label.sk-toggleable__label {background-color: #d4ebff;}#sk-container-id-1 div.sk-label input.sk-toggleable__control:checked~label.sk-toggleable__label {background-color: #d4ebff;}#sk-container-id-1 input.sk-hidden--visually {border: 0;clip: rect(1px 1px 1px 1px);clip: rect(1px, 1px, 1px, 1px);height: 1px;margin: -1px;overflow: hidden;padding: 0;position: absolute;width: 1px;}#sk-container-id-1 div.sk-estimator {font-family: monospace;background-color: #f0f8ff;border: 1px dotted black;border-radius: 0.25em;box-sizing: border-box;margin-bottom: 0.5em;}#sk-container-id-1 div.sk-estimator:hover {background-color: #d4ebff;}#sk-container-id-1 div.sk-parallel-item::after {content: \"\";width: 100%;border-bottom: 1px solid gray;flex-grow: 1;}#sk-container-id-1 div.sk-label:hover label.sk-toggleable__label {background-color: #d4ebff;}#sk-container-id-1 div.sk-serial::before {content: \"\";position: absolute;border-left: 1px solid gray;box-sizing: border-box;top: 0;bottom: 0;left: 50%;z-index: 0;}#sk-container-id-1 div.sk-serial {display: flex;flex-direction: column;align-items: center;background-color: white;padding-right: 0.2em;padding-left: 0.2em;position: relative;}#sk-container-id-1 div.sk-item {position: relative;z-index: 1;}#sk-container-id-1 div.sk-parallel {display: flex;align-items: stretch;justify-content: center;background-color: white;position: relative;}#sk-container-id-1 div.sk-item::before, #sk-container-id-1 div.sk-parallel-item::before {content: \"\";position: absolute;border-left: 1px solid gray;box-sizing: border-box;top: 0;bottom: 0;left: 50%;z-index: -1;}#sk-container-id-1 div.sk-parallel-item {display: flex;flex-direction: column;z-index: 1;position: relative;background-color: white;}#sk-container-id-1 div.sk-parallel-item:first-child::after {align-self: flex-end;width: 50%;}#sk-container-id-1 div.sk-parallel-item:last-child::after {align-self: flex-start;width: 50%;}#sk-container-id-1 div.sk-parallel-item:only-child::after {width: 0;}#sk-container-id-1 div.sk-dashed-wrapped {border: 1px dashed gray;margin: 0 0.4em 0.5em 0.4em;box-sizing: border-box;padding-bottom: 0.4em;background-color: white;}#sk-container-id-1 div.sk-label label {font-family: monospace;font-weight: bold;display: inline-block;line-height: 1.2em;}#sk-container-id-1 div.sk-label-container {text-align: center;}#sk-container-id-1 div.sk-container {/* jupyter's `normalize.less` sets `[hidden] { display: none; }` but bootstrap.min.css set `[hidden] { display: none !important; }` so we also need the `!important` here to be able to override the default hidden behavior on the sphinx rendered scikit-learn.org. See: https://github.com/scikit-learn/scikit-learn/issues/21755 */display: inline-block !important;position: relative;}#sk-container-id-1 div.sk-text-repr-fallback {display: none;}</style><div id=\"sk-container-id-1\" class=\"sk-top-container\"><div class=\"sk-text-repr-fallback\"><pre>RandomForestRegressor(max_features=&#x27;sqrt&#x27;, random_state=42)</pre><b>In a Jupyter environment, please rerun this cell to show the HTML representation or trust the notebook. <br />On GitHub, the HTML representation is unable to render, please try loading this page with nbviewer.org.</b></div><div class=\"sk-container\" hidden><div class=\"sk-item\"><div class=\"sk-estimator sk-toggleable\"><input class=\"sk-toggleable__control sk-hidden--visually\" id=\"sk-estimator-id-1\" type=\"checkbox\" checked><label for=\"sk-estimator-id-1\" class=\"sk-toggleable__label sk-toggleable__label-arrow\">RandomForestRegressor</label><div class=\"sk-toggleable__content\"><pre>RandomForestRegressor(max_features=&#x27;sqrt&#x27;, random_state=42)</pre></div></div></div></div></div>"
            ],
            "text/plain": [
              "RandomForestRegressor(max_features='sqrt', random_state=42)"
            ]
          },
          "execution_count": 9,
          "metadata": {},
          "output_type": "execute_result"
        }
      ],
      "source": [
        "rfr = RandomForestRegressor(max_features='sqrt', random_state=42)\n",
        "rfr.fit(X_train, y_train)"
      ]
    },
    {
      "cell_type": "code",
      "execution_count": null,
      "metadata": {
        "colab": {
          "base_uri": "https://localhost:8080/"
        },
        "id": "ikctJFfpnEZG",
        "outputId": "b055f90b-ba10-4698-c659-bc0abed52c3c"
      },
      "outputs": [
        {
          "data": {
            "text/plain": [
              "['dcp3.model']"
            ]
          },
          "execution_count": 10,
          "metadata": {},
          "output_type": "execute_result"
        }
      ],
      "source": [
        "# Menyimpan model\n",
        "joblib.dump((rfr), 'dcp3.model')"
      ]
    },
    {
      "cell_type": "markdown",
      "metadata": {
        "id": "fLquHdPYQ3CI"
      },
      "source": [
        "# Simulasi"
      ]
    },
    {
      "cell_type": "code",
      "execution_count": null,
      "metadata": {
        "colab": {
          "base_uri": "https://localhost:8080/",
          "height": 81
        },
        "id": "rVGkacgIQ4k-",
        "outputId": "9f7b6223-05a4-42b6-c80f-b2ff922766d0"
      },
      "outputs": [
        {
          "data": {
            "text/html": [
              "<div>\n",
              "<style scoped>\n",
              "    .dataframe tbody tr th:only-of-type {\n",
              "        vertical-align: middle;\n",
              "    }\n",
              "\n",
              "    .dataframe tbody tr th {\n",
              "        vertical-align: top;\n",
              "    }\n",
              "\n",
              "    .dataframe thead th {\n",
              "        text-align: right;\n",
              "    }\n",
              "</style>\n",
              "<table border=\"1\" class=\"dataframe\">\n",
              "  <thead>\n",
              "    <tr style=\"text-align: right;\">\n",
              "      <th></th>\n",
              "      <th>lokasi</th>\n",
              "      <th>LT</th>\n",
              "      <th>LB</th>\n",
              "      <th>KT</th>\n",
              "      <th>KM</th>\n",
              "      <th>listrik</th>\n",
              "      <th>garasi_carport</th>\n",
              "    </tr>\n",
              "  </thead>\n",
              "  <tbody>\n",
              "    <tr>\n",
              "      <th>0</th>\n",
              "      <td>1</td>\n",
              "      <td>100</td>\n",
              "      <td>80</td>\n",
              "      <td>3</td>\n",
              "      <td>2</td>\n",
              "      <td>1300</td>\n",
              "      <td>1</td>\n",
              "    </tr>\n",
              "  </tbody>\n",
              "</table>\n",
              "</div>"
            ],
            "text/plain": [
              "   lokasi   LT  LB  KT  KM  listrik  garasi_carport\n",
              "0       1  100  80   3   2     1300               1"
            ]
          },
          "execution_count": 11,
          "metadata": {},
          "output_type": "execute_result"
        }
      ],
      "source": [
        "# Simulasi prediksi\n",
        "df_test = pd.DataFrame(data={\n",
        "    'lokasi': [1],\n",
        "    'LT': [100],\n",
        "    'LB': [80],\n",
        "    'KT': [3],\n",
        "    'KM': [2],\n",
        "    'listrik': [1300],\n",
        "    'garasi_carport': [1]\n",
        "})\n",
        "df_test[0:1]"
      ]
    },
    {
      "cell_type": "code",
      "execution_count": null,
      "metadata": {
        "colab": {
          "base_uri": "https://localhost:8080/"
        },
        "id": "3rBaD3oJQ_rm",
        "outputId": "6ec8c3b8-2774-4ede-91e7-b80af0f730cb"
      },
      "outputs": [
        {
          "name": "stdout",
          "output_type": "stream",
          "text": [
            "Harga rumah yang Anda idamkan sekitar Rp 861270765\n"
          ]
        }
      ],
      "source": [
        "pred_test = rfr.predict(df_test[0:1])\n",
        "harga = np.e**pred_test\n",
        "print('Harga rumah yang Anda idamkan sekitar Rp','%d'%harga[0])"
      ]
    }
  ],
  "metadata": {
    "colab": {
      "provenance": []
    },
    "kernelspec": {
      "display_name": "Python 3",
      "name": "python3"
    },
    "language_info": {
      "codemirror_mode": {
        "name": "ipython",
        "version": 3
      },
      "file_extension": ".py",
      "mimetype": "text/x-python",
      "name": "python",
      "nbconvert_exporter": "python",
      "pygments_lexer": "ipython3",
      "version": "3.11.4"
    }
  },
  "nbformat": 4,
  "nbformat_minor": 0
}
